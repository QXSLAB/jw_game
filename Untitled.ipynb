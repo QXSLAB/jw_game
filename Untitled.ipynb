{
 "cells": [
  {
   "cell_type": "code",
   "execution_count": 9,
   "metadata": {},
   "outputs": [],
   "source": [
    "import random\n",
    "import math\n",
    "import numpy as np\n",
    "from scipy.spatial.distance import pdist"
   ]
  },
  {
   "cell_type": "code",
   "execution_count": 18,
   "metadata": {},
   "outputs": [],
   "source": [
    "a = np.array([(300,200), (700,300), (250,600), (750,700)])\n",
    "Y = pdist(a,'euclidean')"
   ]
  },
  {
   "cell_type": "code",
   "execution_count": 20,
   "metadata": {},
   "outputs": [],
   "source": [
    "import numpy as np\n",
    "x=np.random.random(10)\n",
    "y=np.random.random(10)\n",
    "\n",
    "#方法一：根据公式求解\n",
    "d1=np.sqrt(np.sum(np.square(x-y)))\n",
    "\n",
    "#方法二：根据scipy库求解\n",
    "from scipy.spatial.distance import pdist\n",
    "X=np.vstack([x,y])\n",
    "d2=pdist(X)"
   ]
  },
  {
   "cell_type": "code",
   "execution_count": 29,
   "metadata": {},
   "outputs": [
    {
     "data": {
      "text/plain": [
       "3"
      ]
     },
     "execution_count": 29,
     "metadata": {},
     "output_type": "execute_result"
    }
   ],
   "source": [
    "sum([1,2])"
   ]
  },
  {
   "cell_type": "code",
   "execution_count": null,
   "metadata": {},
   "outputs": [],
   "source": [
    "# parameters defination\n",
    "max_step = 1000\n",
    "csma_p = 0.5\n",
    "area_w = 1000\n",
    "area_h = 1000\n",
    "DI_jammer = 250\n",
    "DI_usr = 250\n",
    "usr_num = 20\n",
    "channel_num = 3\n",
    "jammer_loc = [(300,200), (700,300), (250,600), (750,700)]\n",
    "jammer_channel = [random.randint(0, channel_num-1) for i in range(4)]\n",
    "assert len(jammer_loc)=len(jammer_channel)\n",
    "user_loc = [(random.randint(0, area_w-1),random.randint(0, area_h-1)) \n",
    "        for i in range(usr_num)]\n",
    "\n",
    "usr_channel_set = []\n",
    "for i, loc1 in enumerate(usr_num):\n",
    "    channel_set = []\n",
    "    for j,loc2 in enumerate(jammer_loc):\n",
    "        if interference(loc1,loc2,DI_jammer):\n",
    "            channel_set.append(j)\n",
    "    usr_channel_set.append(channel_set)\n",
    "\n",
    "usr_utility1 = []\n",
    "usr_utility2 = []\n",
    "usr_strategy = []\n",
    "for i, channel_set in enumerate(usr_channel_set):\n",
    "    channel_num = len(channel_set)\n",
    "    sgm = 1/channel_num\n",
    "    usr_strategy.append([sgm for i in range(channel_num)])\n",
    "    usr_utility1.append([0 for i in range(channel_num)])\n",
    "    usr_utility2.append([0 for i in range(channel_num)]) \n",
    "    \n",
    "usr_near_set = []\n",
    "for i, loc1 in enumerate(usr_num):\n",
    "    near_set = []\n",
    "    for j, loc2 in enumerate(usr_num):\n",
    "        if i==j: continue\n",
    "        if interference(loc1,loc2,DI_usr):\n",
    "            near_set.append(j)\n",
    "    usr_near_set.append(near_set)\n",
    "    \n",
    "def cal_utility(an,aJn):\n",
    "    sn = 0\n",
    "    for ak in aJn:\n",
    "        f = 1 if a==ak else 0\n",
    "        sn = sn+f\n",
    "    gn = csma_p*(1-csma_p)**sn\n",
    "    return gn, sn\n",
    "\n",
    "#SAP begins\n",
    "for k in range(max_step):\n",
    "    actions = [np.random.choice(usr_channel_set[i],usr_strategy[i]) \n",
    "               for i in range(usr_num)]\n",
    "    usr_gn = []\n",
    "    usr_sn = []\n",
    "    for i in range(usr_num):\n",
    "        gn = csma_p\n",
    "        sn = 0\n",
    "        for _, j in enumerate(usr_near_set[i]):\n",
    "            f = 1 if actions[i]==actions[j] else 0\n",
    "            sn = sn+f\n",
    "        gn = gn*(1-csma_p)**sn\n",
    "        usr_gn.append(gn)\n",
    "        usr_sn.append(sn)\n",
    "    usr_n = random.randint(0,usr_num-1)\n",
    "    for i, a in enumerate(usr_channel_set[usr_n]):\n",
    "        aJn = [actions[l] for l in usr_near_set[usr_n]]\n",
    "        gn, sn = cal_utility(a,aJn)\n",
    "        gJn = []\n",
    "        for l in usr_near_set[usr_n]:\n",
    "            aJk = []\n",
    "            gk, _ = cal_utility(actions[l]) \n",
    "        usr_utility1[usr_n][i] = usr_gn[usr_n]+sum([usr_gn[j]])\n",
    "    for i, a in enumerate(usr_channel_set[usr_n]):\n",
    "        usr_strategy[usr_n][i]=\n",
    "    \n",
    "        \n",
    "        \n",
    "\n",
    "def interference(loc1, loc2, DI):\n",
    "    dist = math.sqrt((loc1[0]-loc2[0])**2+(loc1[1]-loc2[1])**2)\n",
    "    return dist < DI"
   ]
  }
 ],
 "metadata": {
  "kernelspec": {
   "display_name": "Python fastaiv1py37",
   "language": "python",
   "name": "fastaiv1py37"
  },
  "language_info": {
   "codemirror_mode": {
    "name": "ipython",
    "version": 3
   },
   "file_extension": ".py",
   "mimetype": "text/x-python",
   "name": "python",
   "nbconvert_exporter": "python",
   "pygments_lexer": "ipython3",
   "version": "3.6.5"
  }
 },
 "nbformat": 4,
 "nbformat_minor": 2
}
